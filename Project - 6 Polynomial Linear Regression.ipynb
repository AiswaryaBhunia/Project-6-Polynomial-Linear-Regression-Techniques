{
 "cells": [
  {
   "cell_type": "code",
   "execution_count": 1,
   "id": "e2f0fc5c",
   "metadata": {},
   "outputs": [],
   "source": [
    "import pandas as pd\n",
    "import numpy as np\n",
    "import matplotlib.pyplot as plt"
   ]
  },
  {
   "cell_type": "code",
   "execution_count": 2,
   "id": "c0d7c0d6",
   "metadata": {},
   "outputs": [],
   "source": [
    "data = pd.read_csv(\"IceCreamSales.csv\")"
   ]
  },
  {
   "cell_type": "code",
   "execution_count": 9,
   "id": "89a27455",
   "metadata": {},
   "outputs": [
    {
     "data": {
      "text/html": [
       "<div>\n",
       "<style scoped>\n",
       "    .dataframe tbody tr th:only-of-type {\n",
       "        vertical-align: middle;\n",
       "    }\n",
       "\n",
       "    .dataframe tbody tr th {\n",
       "        vertical-align: top;\n",
       "    }\n",
       "\n",
       "    .dataframe thead th {\n",
       "        text-align: right;\n",
       "    }\n",
       "</style>\n",
       "<table border=\"1\" class=\"dataframe\">\n",
       "  <thead>\n",
       "    <tr style=\"text-align: right;\">\n",
       "      <th></th>\n",
       "      <th>Unnamed: 0</th>\n",
       "      <th>Temperature</th>\n",
       "      <th>IceCreamSales</th>\n",
       "    </tr>\n",
       "  </thead>\n",
       "  <tbody>\n",
       "    <tr>\n",
       "      <th>0</th>\n",
       "      <td>0</td>\n",
       "      <td>21.952540</td>\n",
       "      <td>21200.216232</td>\n",
       "    </tr>\n",
       "    <tr>\n",
       "      <th>1</th>\n",
       "      <td>1</td>\n",
       "      <td>28.607575</td>\n",
       "      <td>46969.537759</td>\n",
       "    </tr>\n",
       "    <tr>\n",
       "      <th>2</th>\n",
       "      <td>2</td>\n",
       "      <td>24.110535</td>\n",
       "      <td>28155.054323</td>\n",
       "    </tr>\n",
       "    <tr>\n",
       "      <th>3</th>\n",
       "      <td>3</td>\n",
       "      <td>21.795327</td>\n",
       "      <td>20730.330804</td>\n",
       "    </tr>\n",
       "    <tr>\n",
       "      <th>4</th>\n",
       "      <td>4</td>\n",
       "      <td>16.946192</td>\n",
       "      <td>9907.404501</td>\n",
       "    </tr>\n",
       "    <tr>\n",
       "      <th>...</th>\n",
       "      <td>...</td>\n",
       "      <td>...</td>\n",
       "      <td>...</td>\n",
       "    </tr>\n",
       "    <tr>\n",
       "      <th>95</th>\n",
       "      <td>95</td>\n",
       "      <td>7.327654</td>\n",
       "      <td>920.989509</td>\n",
       "    </tr>\n",
       "    <tr>\n",
       "      <th>96</th>\n",
       "      <td>96</td>\n",
       "      <td>23.460517</td>\n",
       "      <td>25884.973575</td>\n",
       "    </tr>\n",
       "    <tr>\n",
       "      <th>97</th>\n",
       "      <td>97</td>\n",
       "      <td>0.804302</td>\n",
       "      <td>66.563119</td>\n",
       "    </tr>\n",
       "    <tr>\n",
       "      <th>98</th>\n",
       "      <td>98</td>\n",
       "      <td>33.157601</td>\n",
       "      <td>72985.915190</td>\n",
       "    </tr>\n",
       "    <tr>\n",
       "      <th>99</th>\n",
       "      <td>99</td>\n",
       "      <td>0.187819</td>\n",
       "      <td>100.887209</td>\n",
       "    </tr>\n",
       "  </tbody>\n",
       "</table>\n",
       "<p>100 rows × 3 columns</p>\n",
       "</div>"
      ],
      "text/plain": [
       "    Unnamed: 0  Temperature  IceCreamSales\n",
       "0            0    21.952540   21200.216232\n",
       "1            1    28.607575   46969.537759\n",
       "2            2    24.110535   28155.054323\n",
       "3            3    21.795327   20730.330804\n",
       "4            4    16.946192    9907.404501\n",
       "..         ...          ...            ...\n",
       "95          95     7.327654     920.989509\n",
       "96          96    23.460517   25884.973575\n",
       "97          97     0.804302      66.563119\n",
       "98          98    33.157601   72985.915190\n",
       "99          99     0.187819     100.887209\n",
       "\n",
       "[100 rows x 3 columns]"
      ]
     },
     "execution_count": 9,
     "metadata": {},
     "output_type": "execute_result"
    }
   ],
   "source": [
    "data"
   ]
  },
  {
   "cell_type": "code",
   "execution_count": 3,
   "id": "1f50f108",
   "metadata": {},
   "outputs": [
    {
     "name": "stdout",
     "output_type": "stream",
     "text": [
      "<class 'pandas.core.frame.DataFrame'>\n",
      "RangeIndex: 100 entries, 0 to 99\n",
      "Data columns (total 3 columns):\n",
      " #   Column         Non-Null Count  Dtype  \n",
      "---  ------         --------------  -----  \n",
      " 0   Unnamed: 0     100 non-null    int64  \n",
      " 1   Temperature    100 non-null    float64\n",
      " 2   IceCreamSales  100 non-null    float64\n",
      "dtypes: float64(2), int64(1)\n",
      "memory usage: 2.5 KB\n"
     ]
    }
   ],
   "source": [
    "data.info()"
   ]
  },
  {
   "cell_type": "code",
   "execution_count": 4,
   "id": "33fbf2f7",
   "metadata": {},
   "outputs": [],
   "source": [
    "x = data[['Temperature']]"
   ]
  },
  {
   "cell_type": "code",
   "execution_count": 5,
   "id": "bd5d59b4",
   "metadata": {},
   "outputs": [],
   "source": [
    "y = data[['IceCreamSales']]"
   ]
  },
  {
   "cell_type": "code",
   "execution_count": 10,
   "id": "121af3c5",
   "metadata": {},
   "outputs": [
    {
     "data": {
      "text/plain": [
       "Text(0.5, 1.0, 'Temperature vs. Ice Cream Sales: A Summer Trend Analysis')"
      ]
     },
     "execution_count": 10,
     "metadata": {},
     "output_type": "execute_result"
    },
    {
     "data": {
      "image/png": "[encoded data removed]",
      "text/plain": [
       "<Figure size 640x480 with 1 Axes>"
      ]
     },
     "metadata": {},
     "output_type": "display_data"
    }
   ],
   "source": [
    "plt.scatter(x, y, label = 'Data Points')\n",
    "plt.legend()\n",
    "plt.title(\"Temperature vs. Ice Cream Sales: A Summer Trend Analysis\")"
   ]
  },
  {
   "cell_type": "markdown",
   "id": "db109053",
   "metadata": {},
   "source": [
    "# Here using Simple Linear Regression for comparing Polynomial Regression"
   ]
  },
  {
   "cell_type": "code",
   "execution_count": 11,
   "id": "234d05a4",
   "metadata": {},
   "outputs": [],
   "source": [
    "from sklearn.model_selection import train_test_split"
   ]
  },
  {
   "cell_type": "code",
   "execution_count": 12,
   "id": "19c018d1",
   "metadata": {},
   "outputs": [],
   "source": [
    "xtrain, xtest, ytrain, ytest = train_test_split(x, y, test_size = 0.2)"
   ]
  },
  {
   "cell_type": "code",
   "execution_count": 13,
   "id": "c751ac62",
   "metadata": {},
   "outputs": [
    {
     "data": {
      "text/plain": [
       "(80, 1)"
      ]
     },
     "execution_count": 13,
     "metadata": {},
     "output_type": "execute_result"
    }
   ],
   "source": [
    "xtrain.shape"
   ]
  },
  {
   "cell_type": "code",
   "execution_count": 16,
   "id": "2c630041",
   "metadata": {},
   "outputs": [
    {
     "data": {
      "text/plain": [
       "(20, 1)"
      ]
     },
     "execution_count": 16,
     "metadata": {},
     "output_type": "execute_result"
    }
   ],
   "source": [
    "xtest.shape"
   ]
  },
  {
   "cell_type": "code",
   "execution_count": 17,
   "id": "4c033e8e",
   "metadata": {},
   "outputs": [],
   "source": [
    "from sklearn.linear_model import LinearRegression"
   ]
  },
  {
   "cell_type": "code",
   "execution_count": 18,
   "id": "b2219b80",
   "metadata": {},
   "outputs": [],
   "source": [
    "slr = LinearRegression()"
   ]
  },
  {
   "cell_type": "code",
   "execution_count": 19,
   "id": "5f461f62",
   "metadata": {},
   "outputs": [
    {
     "data": {
      "text/html": [
       "<style>#sk-container-id-1 {color: black;background-color: white;}#sk-container-id-1 pre{padding: 0;}#sk-container-id-1 div.sk-toggleable {background-color: white;}#sk-container-id-1 label.sk-toggleable__label {cursor: pointer;display: block;width: 100%;margin-bottom: 0;padding: 0.3em;box-sizing: border-box;text-align: center;}#sk-container-id-1 label.sk-toggleable__label-arrow:before {content: \"▸\";float: left;margin-right: 0.25em;color: #696969;}#sk-container-id-1 label.sk-toggleable__label-arrow:hover:before {color: black;}#sk-container-id-1 div.sk-estimator:hover label.sk-toggleable__label-arrow:before {color: black;}#sk-container-id-1 div.sk-toggleable__content {max-height: 0;max-width: 0;overflow: hidden;text-align: left;background-color: #f0f8ff;}#sk-container-id-1 div.sk-toggleable__content pre {margin: 0.2em;color: black;border-radius: 0.25em;background-color: #f0f8ff;}#sk-container-id-1 input.sk-toggleable__control:checked~div.sk-toggleable__content {max-height: 200px;max-width: 100%;overflow: auto;}#sk-container-id-1 input.sk-toggleable__control:checked~label.sk-toggleable__label-arrow:before {content: \"▾\";}#sk-container-id-1 div.sk-estimator input.sk-toggleable__control:checked~label.sk-toggleable__label {background-color: #d4ebff;}#sk-container-id-1 div.sk-label input.sk-toggleable__control:checked~label.sk-toggleable__label {background-color: #d4ebff;}#sk-container-id-1 input.sk-hidden--visually {border: 0;clip: rect(1px 1px 1px 1px);clip: rect(1px, 1px, 1px, 1px);height: 1px;margin: -1px;overflow: hidden;padding: 0;position: absolute;width: 1px;}#sk-container-id-1 div.sk-estimator {font-family: monospace;background-color: #f0f8ff;border: 1px dotted black;border-radius: 0.25em;box-sizing: border-box;margin-bottom: 0.5em;}#sk-container-id-1 div.sk-estimator:hover {background-color: #d4ebff;}#sk-container-id-1 div.sk-parallel-item::after {content: \"\";width: 100%;border-bottom: 1px solid gray;flex-grow: 1;}#sk-container-id-1 div.sk-label:hover label.sk-toggleable__label {background-color: #d4ebff;}#sk-container-id-1 div.sk-serial::before {content: \"\";position: absolute;border-left: 1px solid gray;box-sizing: border-box;top: 0;bottom: 0;left: 50%;z-index: 0;}#sk-container-id-1 div.sk-serial {display: flex;flex-direction: column;align-items: center;background-color: white;padding-right: 0.2em;padding-left: 0.2em;position: relative;}#sk-container-id-1 div.sk-item {position: relative;z-index: 1;}#sk-container-id-1 div.sk-parallel {display: flex;align-items: stretch;justify-content: center;background-color: white;position: relative;}#sk-container-id-1 div.sk-item::before, #sk-container-id-1 div.sk-parallel-item::before {content: \"\";position: absolute;border-left: 1px solid gray;box-sizing: border-box;top: 0;bottom: 0;left: 50%;z-index: -1;}#sk-container-id-1 div.sk-parallel-item {display: flex;flex-direction: column;z-index: 1;position: relative;background-color: white;}#sk-container-id-1 div.sk-parallel-item:first-child::after {align-self: flex-end;width: 50%;}#sk-container-id-1 div.sk-parallel-item:last-child::after {align-self: flex-start;width: 50%;}#sk-container-id-1 div.sk-parallel-item:only-child::after {width: 0;}#sk-container-id-1 div.sk-dashed-wrapped {border: 1px dashed gray;margin: 0 0.4em 0.5em 0.4em;box-sizing: border-box;padding-bottom: 0.4em;background-color: white;}#sk-container-id-1 div.sk-label label {font-family: monospace;font-weight: bold;display: inline-block;line-height: 1.2em;}#sk-container-id-1 div.sk-label-container {text-align: center;}#sk-container-id-1 div.sk-container {/* jupyter's `normalize.less` sets `[hidden] { display: none; }` but bootstrap.min.css set `[hidden] { display: none !important; }` so we also need the `!important` here to be able to override the default hidden behavior on the sphinx rendered scikit-learn.org. See: https://github.com/scikit-learn/scikit-learn/issues/21755 */display: inline-block !important;position: relative;}#sk-container-id-1 div.sk-text-repr-fallback {display: none;}</style><div id=\"sk-container-id-1\" class=\"sk-top-container\"><div class=\"sk-text-repr-fallback\"><pre>LinearRegression()</pre><b>In a Jupyter environment, please rerun this cell to show the HTML representation or trust the notebook. <br />On GitHub, the HTML representation is unable to render, please try loading this page with nbviewer.org.</b></div><div class=\"sk-container\" hidden><div class=\"sk-item\"><div class=\"sk-estimator sk-toggleable\"><input class=\"sk-toggleable__control sk-hidden--visually\" id=\"sk-estimator-id-1\" type=\"checkbox\" checked><label for=\"sk-estimator-id-1\" class=\"sk-toggleable__label sk-toggleable__label-arrow\">LinearRegression</label><div class=\"sk-toggleable__content\"><pre>LinearRegression()</pre></div></div></div></div></div>"
      ],
      "text/plain": [
       "LinearRegression()"
      ]
     },
     "execution_count": 19,
     "metadata": {},
     "output_type": "execute_result"
    }
   ],
   "source": [
    "slr.fit(xtrain, ytrain)"
   ]
  },
  {
   "cell_type": "code",
   "execution_count": 20,
   "id": "adc70bb3",
   "metadata": {},
   "outputs": [],
   "source": [
    "ypred = slr.predict(xtest)"
   ]
  },
  {
   "cell_type": "code",
   "execution_count": 21,
   "id": "35b91119",
   "metadata": {},
   "outputs": [],
   "source": [
    "from sklearn.metrics import r2_score"
   ]
  },
  {
   "cell_type": "code",
   "execution_count": 22,
   "id": "7851cc2a",
   "metadata": {},
   "outputs": [
    {
     "data": {
      "text/plain": [
       "0.8179810016940824"
      ]
     },
     "execution_count": 22,
     "metadata": {},
     "output_type": "execute_result"
    }
   ],
   "source": [
    "r2_score(ypred , ytest)"
   ]
  },
  {
   "cell_type": "code",
   "execution_count": 23,
   "id": "724c9bb2",
   "metadata": {},
   "outputs": [
    {
     "data": {
      "text/plain": [
       "array([2830.89753241])"
      ]
     },
     "execution_count": 23,
     "metadata": {},
     "output_type": "execute_result"
    }
   ],
   "source": [
    "slr.coef_[0]"
   ]
  },
  {
   "cell_type": "code",
   "execution_count": 24,
   "id": "cc0cbce8",
   "metadata": {},
   "outputs": [
    {
     "data": {
      "text/plain": [
       "array([-24727.20867166])"
      ]
     },
     "execution_count": 24,
     "metadata": {},
     "output_type": "execute_result"
    }
   ],
   "source": [
    "slr.intercept_"
   ]
  },
  {
   "cell_type": "code",
   "execution_count": 25,
   "id": "8c2d1b72",
   "metadata": {},
   "outputs": [],
   "source": [
    "m = slr.coef_[0]"
   ]
  },
  {
   "cell_type": "code",
   "execution_count": 26,
   "id": "f65138bf",
   "metadata": {},
   "outputs": [],
   "source": [
    "c = slr.intercept_"
   ]
  },
  {
   "cell_type": "code",
   "execution_count": 33,
   "id": "0832631d",
   "metadata": {},
   "outputs": [
    {
     "data": {
      "text/plain": [
       "<matplotlib.legend.Legend at 0x111ecf550>"
      ]
     },
     "execution_count": 33,
     "metadata": {},
     "output_type": "execute_result"
    },
    {
     "data": {
      "image/png": "[encoded data removed]",
      "text/plain": [
       "<Figure size 640x480 with 1 Axes>"
      ]
     },
     "metadata": {},
     "output_type": "display_data"
    }
   ],
   "source": [
    "plt.scatter(xtest, ytest, label = \"Data Points\")\n",
    "plt.plot(xtest , xtest * m + c , label = \"Best Fit Line\" , c = 'r')\n",
    "plt.title(\"After Transforming The Linear Dataset\")\n",
    "plt.legend()"
   ]
  },
  {
   "cell_type": "markdown",
   "id": "02834181",
   "metadata": {},
   "source": [
    "# Using Polynomial Regression Here"
   ]
  },
  {
   "cell_type": "code",
   "execution_count": 34,
   "id": "9923ffbb",
   "metadata": {},
   "outputs": [],
   "source": [
    "data_p = pd.read_csv(\"IceCreamSales.csv\")"
   ]
  },
  {
   "cell_type": "code",
   "execution_count": 35,
   "id": "10977ed8",
   "metadata": {},
   "outputs": [
    {
     "data": {
      "text/html": [
       "<div>\n",
       "<style scoped>\n",
       "    .dataframe tbody tr th:only-of-type {\n",
       "        vertical-align: middle;\n",
       "    }\n",
       "\n",
       "    .dataframe tbody tr th {\n",
       "        vertical-align: top;\n",
       "    }\n",
       "\n",
       "    .dataframe thead th {\n",
       "        text-align: right;\n",
       "    }\n",
       "</style>\n",
       "<table border=\"1\" class=\"dataframe\">\n",
       "  <thead>\n",
       "    <tr style=\"text-align: right;\">\n",
       "      <th></th>\n",
       "      <th>Unnamed: 0</th>\n",
       "      <th>Temperature</th>\n",
       "      <th>IceCreamSales</th>\n",
       "    </tr>\n",
       "  </thead>\n",
       "  <tbody>\n",
       "    <tr>\n",
       "      <th>0</th>\n",
       "      <td>0</td>\n",
       "      <td>21.952540</td>\n",
       "      <td>21200.216232</td>\n",
       "    </tr>\n",
       "    <tr>\n",
       "      <th>1</th>\n",
       "      <td>1</td>\n",
       "      <td>28.607575</td>\n",
       "      <td>46969.537759</td>\n",
       "    </tr>\n",
       "    <tr>\n",
       "      <th>2</th>\n",
       "      <td>2</td>\n",
       "      <td>24.110535</td>\n",
       "      <td>28155.054323</td>\n",
       "    </tr>\n",
       "    <tr>\n",
       "      <th>3</th>\n",
       "      <td>3</td>\n",
       "      <td>21.795327</td>\n",
       "      <td>20730.330804</td>\n",
       "    </tr>\n",
       "    <tr>\n",
       "      <th>4</th>\n",
       "      <td>4</td>\n",
       "      <td>16.946192</td>\n",
       "      <td>9907.404501</td>\n",
       "    </tr>\n",
       "    <tr>\n",
       "      <th>...</th>\n",
       "      <td>...</td>\n",
       "      <td>...</td>\n",
       "      <td>...</td>\n",
       "    </tr>\n",
       "    <tr>\n",
       "      <th>95</th>\n",
       "      <td>95</td>\n",
       "      <td>7.327654</td>\n",
       "      <td>920.989509</td>\n",
       "    </tr>\n",
       "    <tr>\n",
       "      <th>96</th>\n",
       "      <td>96</td>\n",
       "      <td>23.460517</td>\n",
       "      <td>25884.973575</td>\n",
       "    </tr>\n",
       "    <tr>\n",
       "      <th>97</th>\n",
       "      <td>97</td>\n",
       "      <td>0.804302</td>\n",
       "      <td>66.563119</td>\n",
       "    </tr>\n",
       "    <tr>\n",
       "      <th>98</th>\n",
       "      <td>98</td>\n",
       "      <td>33.157601</td>\n",
       "      <td>72985.915190</td>\n",
       "    </tr>\n",
       "    <tr>\n",
       "      <th>99</th>\n",
       "      <td>99</td>\n",
       "      <td>0.187819</td>\n",
       "      <td>100.887209</td>\n",
       "    </tr>\n",
       "  </tbody>\n",
       "</table>\n",
       "<p>100 rows × 3 columns</p>\n",
       "</div>"
      ],
      "text/plain": [
       "    Unnamed: 0  Temperature  IceCreamSales\n",
       "0            0    21.952540   21200.216232\n",
       "1            1    28.607575   46969.537759\n",
       "2            2    24.110535   28155.054323\n",
       "3            3    21.795327   20730.330804\n",
       "4            4    16.946192    9907.404501\n",
       "..         ...          ...            ...\n",
       "95          95     7.327654     920.989509\n",
       "96          96    23.460517   25884.973575\n",
       "97          97     0.804302      66.563119\n",
       "98          98    33.157601   72985.915190\n",
       "99          99     0.187819     100.887209\n",
       "\n",
       "[100 rows x 3 columns]"
      ]
     },
     "execution_count": 35,
     "metadata": {},
     "output_type": "execute_result"
    }
   ],
   "source": [
    "data_p"
   ]
  },
  {
   "cell_type": "code",
   "execution_count": 36,
   "id": "e768d950",
   "metadata": {},
   "outputs": [],
   "source": [
    "x = data_p[['Temperature']]"
   ]
  },
  {
   "cell_type": "code",
   "execution_count": 37,
   "id": "2355d4b1",
   "metadata": {},
   "outputs": [],
   "source": [
    "y = data_p[['IceCreamSales']]"
   ]
  },
  {
   "cell_type": "code",
   "execution_count": 39,
   "id": "abef169d",
   "metadata": {},
   "outputs": [],
   "source": [
    "from sklearn.preprocessing import PolynomialFeatures"
   ]
  },
  {
   "cell_type": "code",
   "execution_count": 58,
   "id": "5ccdc036",
   "metadata": {},
   "outputs": [],
   "source": [
    "poly = PolynomialFeatures(degree = 3) # increase or decrease degree for best result."
   ]
  },
  {
   "cell_type": "code",
   "execution_count": 59,
   "id": "0bebaa1b",
   "metadata": {},
   "outputs": [],
   "source": [
    "x_transformed = poly.fit_transform(x)"
   ]
  },
  {
   "cell_type": "code",
   "execution_count": 60,
   "id": "c3f6180b",
   "metadata": {},
   "outputs": [
    {
     "data": {
      "text/html": [
       "<div>\n",
       "<style scoped>\n",
       "    .dataframe tbody tr th:only-of-type {\n",
       "        vertical-align: middle;\n",
       "    }\n",
       "\n",
       "    .dataframe tbody tr th {\n",
       "        vertical-align: top;\n",
       "    }\n",
       "\n",
       "    .dataframe thead th {\n",
       "        text-align: right;\n",
       "    }\n",
       "</style>\n",
       "<table border=\"1\" class=\"dataframe\">\n",
       "  <thead>\n",
       "    <tr style=\"text-align: right;\">\n",
       "      <th></th>\n",
       "      <th>Temperature</th>\n",
       "    </tr>\n",
       "  </thead>\n",
       "  <tbody>\n",
       "    <tr>\n",
       "      <th>0</th>\n",
       "      <td>21.952540</td>\n",
       "    </tr>\n",
       "    <tr>\n",
       "      <th>1</th>\n",
       "      <td>28.607575</td>\n",
       "    </tr>\n",
       "    <tr>\n",
       "      <th>2</th>\n",
       "      <td>24.110535</td>\n",
       "    </tr>\n",
       "    <tr>\n",
       "      <th>3</th>\n",
       "      <td>21.795327</td>\n",
       "    </tr>\n",
       "    <tr>\n",
       "      <th>4</th>\n",
       "      <td>16.946192</td>\n",
       "    </tr>\n",
       "  </tbody>\n",
       "</table>\n",
       "</div>"
      ],
      "text/plain": [
       "   Temperature\n",
       "0    21.952540\n",
       "1    28.607575\n",
       "2    24.110535\n",
       "3    21.795327\n",
       "4    16.946192"
      ]
     },
     "execution_count": 60,
     "metadata": {},
     "output_type": "execute_result"
    }
   ],
   "source": [
    "x.iloc[:5]"
   ]
  },
  {
   "cell_type": "code",
   "execution_count": 68,
   "id": "455fe0b1",
   "metadata": {},
   "outputs": [
    {
     "data": {
      "text/plain": [
       "array([[1.00000000e+00, 2.19525402e+01, 4.81914019e+02, 1.05792369e+04],\n",
       "       [1.00000000e+00, 2.86075747e+01, 8.18393328e+02, 2.34122482e+04],\n",
       "       [1.00000000e+00, 2.41105350e+01, 5.81317900e+02, 1.40158856e+04]])"
      ]
     },
     "execution_count": 68,
     "metadata": {},
     "output_type": "execute_result"
    }
   ],
   "source": [
    "x_transformed[:3]"
   ]
  },
  {
   "cell_type": "code",
   "execution_count": 66,
   "id": "3669d87d",
   "metadata": {},
   "outputs": [
    {
     "data": {
      "text/plain": [
       "array([1.05792369e+04, 2.34122482e+04, 1.40158856e+04, 1.03535715e+04,\n",
       "       4.86649595e+03, 1.72450299e+04, 5.36258065e+03, 4.53881972e+04,\n",
       "       5.72736952e+04, 3.60809017e+03, 3.17616542e+04, 9.46865211e+03,\n",
       "       1.17307881e+04, 5.07510790e+04, 2.29412214e+01, 4.23323759e+01,\n",
       "       5.28956748e-01, 3.69419868e+04, 3.01565213e+04, 4.21459575e+04,\n",
       "       5.99818738e+04, 3.26647131e+04, 6.28979984e+03, 3.04331845e+04,\n",
       "       1.05889408e+02, 1.67710056e+04, 1.88539758e+02, 5.39534041e+04,\n",
       "       9.09521244e+03, 4.56312641e+03, 1.18503427e+03, 2.97027164e+04,\n",
       "       6.07440802e+03, 1.17549286e+04, 4.24567236e-01, 1.50791450e+04,\n",
       "       1.46770241e+04, 1.50278234e+04, 5.37957808e+04, 2.02856886e+04,\n",
       "       2.97375572e+03, 5.34219270e+03, 2.17298962e+04, 1.39804324e+01,\n",
       "       1.89715017e+04, 1.93038616e+04, 5.95949126e+02, 1.37152746e+02,\n",
       "       2.00854770e+03, 3.07927490e+03, 1.18646309e+04, 5.39995763e+03,\n",
       "       6.17936285e+04, 6.80068638e+01, 5.83244049e+02, 2.68633366e+02,\n",
       "       1.78293551e+04, 1.04002158e+03, 6.48942654e+03, 9.34587571e+02,\n",
       "       2.57111845e+02, 8.60585036e+01, 1.80944725e+04, 1.68866447e+02,\n",
       "       4.86198505e+02, 3.20839869e+03, 3.54159341e+04, 5.85942206e+01,\n",
       "       3.76553225e+04, 5.67974126e+01, 5.95857805e+04, 6.58762970e+03,\n",
       "       5.96410148e+04, 1.41616344e+04, 2.58569864e+04, 3.85152184e+00,\n",
       "       1.44760564e+03, 1.11136343e+02, 1.66215706e+03, 1.07111560e+02,\n",
       "       2.05774908e+03, 4.54996855e+03, 1.68934794e+01, 2.12513660e+04,\n",
       "       1.16416095e+04, 1.19627531e+03, 9.16859603e+03, 5.30565156e+01,\n",
       "       1.22271825e+04, 5.13620624e+04, 2.06914210e+03, 1.90264973e+04,\n",
       "       1.46522754e+02, 2.35241700e+04, 1.55132569e+03, 3.93454891e+02,\n",
       "       1.29125720e+04, 5.20304041e-01, 3.64543459e+04, 6.62550373e-03])"
      ]
     },
     "execution_count": 66,
     "metadata": {},
     "output_type": "execute_result"
    }
   ],
   "source": [
    "x_transformed[:,3]"
   ]
  },
  {
   "cell_type": "code",
   "execution_count": 69,
   "id": "bc3bb612",
   "metadata": {},
   "outputs": [
    {
     "data": {
      "text/plain": [
       "<matplotlib.legend.Legend at 0x113994310>"
      ]
     },
     "execution_count": 69,
     "metadata": {},
     "output_type": "execute_result"
    },
    {
     "data": {
      "image/png": "[encoded data removed]",
      "text/plain": [
       "<Figure size 640x480 with 1 Axes>"
      ]
     },
     "metadata": {},
     "output_type": "display_data"
    }
   ],
   "source": [
    "plt.scatter(x_transformed[:,3], y, label = 'Data Points')\n",
    "plt.legend()"
   ]
  },
  {
   "cell_type": "code",
   "execution_count": 70,
   "id": "26c6e915",
   "metadata": {},
   "outputs": [],
   "source": [
    "import numpy as np"
   ]
  },
  {
   "cell_type": "code",
   "execution_count": 71,
   "id": "aaf657b7",
   "metadata": {},
   "outputs": [],
   "source": [
    "x_new = np.array([x_transformed[:,3]])"
   ]
  },
  {
   "cell_type": "code",
   "execution_count": 72,
   "id": "68356028",
   "metadata": {},
   "outputs": [
    {
     "data": {
      "text/plain": [
       "array([[1.05792369e+04, 2.34122482e+04, 1.40158856e+04, 1.03535715e+04,\n",
       "        4.86649595e+03, 1.72450299e+04, 5.36258065e+03, 4.53881972e+04,\n",
       "        5.72736952e+04, 3.60809017e+03, 3.17616542e+04, 9.46865211e+03,\n",
       "        1.17307881e+04, 5.07510790e+04, 2.29412214e+01, 4.23323759e+01,\n",
       "        5.28956748e-01, 3.69419868e+04, 3.01565213e+04, 4.21459575e+04,\n",
       "        5.99818738e+04, 3.26647131e+04, 6.28979984e+03, 3.04331845e+04,\n",
       "        1.05889408e+02, 1.67710056e+04, 1.88539758e+02, 5.39534041e+04,\n",
       "        9.09521244e+03, 4.56312641e+03, 1.18503427e+03, 2.97027164e+04,\n",
       "        6.07440802e+03, 1.17549286e+04, 4.24567236e-01, 1.50791450e+04,\n",
       "        1.46770241e+04, 1.50278234e+04, 5.37957808e+04, 2.02856886e+04,\n",
       "        2.97375572e+03, 5.34219270e+03, 2.17298962e+04, 1.39804324e+01,\n",
       "        1.89715017e+04, 1.93038616e+04, 5.95949126e+02, 1.37152746e+02,\n",
       "        2.00854770e+03, 3.07927490e+03, 1.18646309e+04, 5.39995763e+03,\n",
       "        6.17936285e+04, 6.80068638e+01, 5.83244049e+02, 2.68633366e+02,\n",
       "        1.78293551e+04, 1.04002158e+03, 6.48942654e+03, 9.34587571e+02,\n",
       "        2.57111845e+02, 8.60585036e+01, 1.80944725e+04, 1.68866447e+02,\n",
       "        4.86198505e+02, 3.20839869e+03, 3.54159341e+04, 5.85942206e+01,\n",
       "        3.76553225e+04, 5.67974126e+01, 5.95857805e+04, 6.58762970e+03,\n",
       "        5.96410148e+04, 1.41616344e+04, 2.58569864e+04, 3.85152184e+00,\n",
       "        1.44760564e+03, 1.11136343e+02, 1.66215706e+03, 1.07111560e+02,\n",
       "        2.05774908e+03, 4.54996855e+03, 1.68934794e+01, 2.12513660e+04,\n",
       "        1.16416095e+04, 1.19627531e+03, 9.16859603e+03, 5.30565156e+01,\n",
       "        1.22271825e+04, 5.13620624e+04, 2.06914210e+03, 1.90264973e+04,\n",
       "        1.46522754e+02, 2.35241700e+04, 1.55132569e+03, 3.93454891e+02,\n",
       "        1.29125720e+04, 5.20304041e-01, 3.64543459e+04, 6.62550373e-03]])"
      ]
     },
     "execution_count": 72,
     "metadata": {},
     "output_type": "execute_result"
    }
   ],
   "source": [
    "x_new"
   ]
  },
  {
   "cell_type": "code",
   "execution_count": 74,
   "id": "e4cdf675",
   "metadata": {},
   "outputs": [
    {
     "data": {
      "text/plain": [
       "(1, 100)"
      ]
     },
     "execution_count": 74,
     "metadata": {},
     "output_type": "execute_result"
    }
   ],
   "source": [
    "x_new.shape"
   ]
  },
  {
   "cell_type": "code",
   "execution_count": 75,
   "id": "8366a850",
   "metadata": {},
   "outputs": [
    {
     "data": {
      "text/plain": [
       "(100, 1)"
      ]
     },
     "execution_count": 75,
     "metadata": {},
     "output_type": "execute_result"
    }
   ],
   "source": [
    "x_new.T.shape"
   ]
  },
  {
   "cell_type": "code",
   "execution_count": 95,
   "id": "3b128c3b",
   "metadata": {},
   "outputs": [],
   "source": [
    "x_new = x_new.T"
   ]
  },
  {
   "cell_type": "code",
   "execution_count": 77,
   "id": "092df386",
   "metadata": {},
   "outputs": [],
   "source": [
    "xtrain, xtest, ytrain, ytest = train_test_split(x_new , y, test_size = 0.2)"
   ]
  },
  {
   "cell_type": "code",
   "execution_count": 78,
   "id": "8cbceb1d",
   "metadata": {},
   "outputs": [
    {
     "data": {
      "text/plain": [
       "(80, 1)"
      ]
     },
     "execution_count": 78,
     "metadata": {},
     "output_type": "execute_result"
    }
   ],
   "source": [
    "xtrain.shape"
   ]
  },
  {
   "cell_type": "code",
   "execution_count": 79,
   "id": "5895e2ea",
   "metadata": {},
   "outputs": [
    {
     "data": {
      "text/plain": [
       "(20, 1)"
      ]
     },
     "execution_count": 79,
     "metadata": {},
     "output_type": "execute_result"
    }
   ],
   "source": [
    "xtest.shape"
   ]
  },
  {
   "cell_type": "code",
   "execution_count": 80,
   "id": "93b705bc",
   "metadata": {},
   "outputs": [],
   "source": [
    "lr = LinearRegression()"
   ]
  },
  {
   "cell_type": "code",
   "execution_count": 96,
   "id": "107536af",
   "metadata": {},
   "outputs": [
    {
     "data": {
      "text/html": [
       "<style>#sk-container-id-3 {color: black;background-color: white;}#sk-container-id-3 pre{padding: 0;}#sk-container-id-3 div.sk-toggleable {background-color: white;}#sk-container-id-3 label.sk-toggleable__label {cursor: pointer;display: block;width: 100%;margin-bottom: 0;padding: 0.3em;box-sizing: border-box;text-align: center;}#sk-container-id-3 label.sk-toggleable__label-arrow:before {content: \"▸\";float: left;margin-right: 0.25em;color: #696969;}#sk-container-id-3 label.sk-toggleable__label-arrow:hover:before {color: black;}#sk-container-id-3 div.sk-estimator:hover label.sk-toggleable__label-arrow:before {color: black;}#sk-container-id-3 div.sk-toggleable__content {max-height: 0;max-width: 0;overflow: hidden;text-align: left;background-color: #f0f8ff;}#sk-container-id-3 div.sk-toggleable__content pre {margin: 0.2em;color: black;border-radius: 0.25em;background-color: #f0f8ff;}#sk-container-id-3 input.sk-toggleable__control:checked~div.sk-toggleable__content {max-height: 200px;max-width: 100%;overflow: auto;}#sk-container-id-3 input.sk-toggleable__control:checked~label.sk-toggleable__label-arrow:before {content: \"▾\";}#sk-container-id-3 div.sk-estimator input.sk-toggleable__control:checked~label.sk-toggleable__label {background-color: #d4ebff;}#sk-container-id-3 div.sk-label input.sk-toggleable__control:checked~label.sk-toggleable__label {background-color: #d4ebff;}#sk-container-id-3 input.sk-hidden--visually {border: 0;clip: rect(1px 1px 1px 1px);clip: rect(1px, 1px, 1px, 1px);height: 1px;margin: -1px;overflow: hidden;padding: 0;position: absolute;width: 1px;}#sk-container-id-3 div.sk-estimator {font-family: monospace;background-color: #f0f8ff;border: 1px dotted black;border-radius: 0.25em;box-sizing: border-box;margin-bottom: 0.5em;}#sk-container-id-3 div.sk-estimator:hover {background-color: #d4ebff;}#sk-container-id-3 div.sk-parallel-item::after {content: \"\";width: 100%;border-bottom: 1px solid gray;flex-grow: 1;}#sk-container-id-3 div.sk-label:hover label.sk-toggleable__label {background-color: #d4ebff;}#sk-container-id-3 div.sk-serial::before {content: \"\";position: absolute;border-left: 1px solid gray;box-sizing: border-box;top: 0;bottom: 0;left: 50%;z-index: 0;}#sk-container-id-3 div.sk-serial {display: flex;flex-direction: column;align-items: center;background-color: white;padding-right: 0.2em;padding-left: 0.2em;position: relative;}#sk-container-id-3 div.sk-item {position: relative;z-index: 1;}#sk-container-id-3 div.sk-parallel {display: flex;align-items: stretch;justify-content: center;background-color: white;position: relative;}#sk-container-id-3 div.sk-item::before, #sk-container-id-3 div.sk-parallel-item::before {content: \"\";position: absolute;border-left: 1px solid gray;box-sizing: border-box;top: 0;bottom: 0;left: 50%;z-index: -1;}#sk-container-id-3 div.sk-parallel-item {display: flex;flex-direction: column;z-index: 1;position: relative;background-color: white;}#sk-container-id-3 div.sk-parallel-item:first-child::after {align-self: flex-end;width: 50%;}#sk-container-id-3 div.sk-parallel-item:last-child::after {align-self: flex-start;width: 50%;}#sk-container-id-3 div.sk-parallel-item:only-child::after {width: 0;}#sk-container-id-3 div.sk-dashed-wrapped {border: 1px dashed gray;margin: 0 0.4em 0.5em 0.4em;box-sizing: border-box;padding-bottom: 0.4em;background-color: white;}#sk-container-id-3 div.sk-label label {font-family: monospace;font-weight: bold;display: inline-block;line-height: 1.2em;}#sk-container-id-3 div.sk-label-container {text-align: center;}#sk-container-id-3 div.sk-container {/* jupyter's `normalize.less` sets `[hidden] { display: none; }` but bootstrap.min.css set `[hidden] { display: none !important; }` so we also need the `!important` here to be able to override the default hidden behavior on the sphinx rendered scikit-learn.org. See: https://github.com/scikit-learn/scikit-learn/issues/21755 */display: inline-block !important;position: relative;}#sk-container-id-3 div.sk-text-repr-fallback {display: none;}</style><div id=\"sk-container-id-3\" class=\"sk-top-container\"><div class=\"sk-text-repr-fallback\"><pre>LinearRegression()</pre><b>In a Jupyter environment, please rerun this cell to show the HTML representation or trust the notebook. <br />On GitHub, the HTML representation is unable to render, please try loading this page with nbviewer.org.</b></div><div class=\"sk-container\" hidden><div class=\"sk-item\"><div class=\"sk-estimator sk-toggleable\"><input class=\"sk-toggleable__control sk-hidden--visually\" id=\"sk-estimator-id-3\" type=\"checkbox\" checked><label for=\"sk-estimator-id-3\" class=\"sk-toggleable__label sk-toggleable__label-arrow\">LinearRegression</label><div class=\"sk-toggleable__content\"><pre>LinearRegression()</pre></div></div></div></div></div>"
      ],
      "text/plain": [
       "LinearRegression()"
      ]
     },
     "execution_count": 96,
     "metadata": {},
     "output_type": "execute_result"
    }
   ],
   "source": [
    "lr.fit(xtrain , ytrain)"
   ]
  },
  {
   "cell_type": "code",
   "execution_count": 97,
   "id": "65531eb4",
   "metadata": {},
   "outputs": [],
   "source": [
    "ypred = lr.predict(xtest)"
   ]
  },
  {
   "cell_type": "code",
   "execution_count": 98,
   "id": "d9f147ba",
   "metadata": {},
   "outputs": [
    {
     "data": {
      "text/plain": [
       "0.9999983803214416"
      ]
     },
     "execution_count": 98,
     "metadata": {},
     "output_type": "execute_result"
    }
   ],
   "source": [
    "r2_score(ypred, ytest)"
   ]
  },
  {
   "cell_type": "code",
   "execution_count": 99,
   "id": "d0012e4e",
   "metadata": {},
   "outputs": [
    {
     "data": {
      "text/plain": [
       "array([1.99960095])"
      ]
     },
     "execution_count": 99,
     "metadata": {},
     "output_type": "execute_result"
    }
   ],
   "source": [
    "lr.coef_[0]"
   ]
  },
  {
   "cell_type": "code",
   "execution_count": 100,
   "id": "e55d6114",
   "metadata": {},
   "outputs": [
    {
     "data": {
      "text/plain": [
       "array([111.5035011])"
      ]
     },
     "execution_count": 100,
     "metadata": {},
     "output_type": "execute_result"
    }
   ],
   "source": [
    "lr.intercept_"
   ]
  },
  {
   "cell_type": "code",
   "execution_count": 101,
   "id": "b439b1bb",
   "metadata": {},
   "outputs": [],
   "source": [
    "m = lr.coef_[0]"
   ]
  },
  {
   "cell_type": "code",
   "execution_count": 102,
   "id": "df7fcb3e",
   "metadata": {},
   "outputs": [],
   "source": [
    "c = lr.intercept_"
   ]
  },
  {
   "cell_type": "code",
   "execution_count": 104,
   "id": "5f2edd81",
   "metadata": {},
   "outputs": [
    {
     "data": {
      "text/plain": [
       "<matplotlib.legend.Legend at 0x115d86320>"
      ]
     },
     "execution_count": 104,
     "metadata": {},
     "output_type": "execute_result"
    },
    {
     "data": {
      "image/png": "[encoded data removed]",
      "text/plain": [
       "<Figure size 640x480 with 1 Axes>"
      ]
     },
     "metadata": {},
     "output_type": "display_data"
    }
   ],
   "source": [
    "plt.scatter(xtest, ytest, label = \" Data Dot\")\n",
    "plt.plot(xtest, xtest * m + c , label = \"Best Fit Line\" , c = 'r')\n",
    "plt.legend()"
   ]
  },
  {
   "cell_type": "markdown",
   "id": "b7e5282f",
   "metadata": {},
   "source": [
    "## Testing the prediction by increasing degree"
   ]
  },
  {
   "cell_type": "code",
   "execution_count": 107,
   "id": "320f20e7",
   "metadata": {},
   "outputs": [
    {
     "name": "stdout",
     "output_type": "stream",
     "text": [
      "12008.988999999998\n"
     ]
    },
    {
     "data": {
      "text/plain": [
       "array([[24124.68935799]])"
      ]
     },
     "execution_count": 107,
     "metadata": {},
     "output_type": "execute_result"
    }
   ],
   "source": [
    "tem = 22.9\n",
    "tem = 22.9 ** 3\n",
    "print(tem)\n",
    "lr.predict([[tem]])"
   ]
  },
  {
   "cell_type": "code",
   "execution_count": null,
   "id": "21707bb3",
   "metadata": {},
   "outputs": [],
   "source": []
  }
 ],
 "metadata": {
  "kernelspec": {
   "display_name": "Python 3 (ipykernel)",
   "language": "python",
   "name": "python3"
  },
  "language_info": {
   "codemirror_mode": {
    "name": "ipython",
    "version": 3
   },
   "file_extension": ".py",
   "mimetype": "text/x-python",
   "name": "python",
   "nbconvert_exporter": "python",
   "pygments_lexer": "ipython3",
   "version": "3.10.9"
  }
 },
 "nbformat": 4,
 "nbformat_minor": 5
}
